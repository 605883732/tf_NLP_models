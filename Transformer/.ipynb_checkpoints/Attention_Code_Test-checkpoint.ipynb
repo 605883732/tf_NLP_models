{
 "cells": [
  {
   "cell_type": "code",
   "execution_count": 2,
   "metadata": {
    "collapsed": true
   },
   "outputs": [],
   "source": [
    "import tensorflow as tf\n",
    "tf.enable_eager_execution()"
   ]
  },
  {
   "cell_type": "code",
   "execution_count": 11,
   "metadata": {
    "collapsed": true
   },
   "outputs": [],
   "source": [
    "def posEmbedding(inputs, position_size):\n",
    "    '''\n",
    "    inputs是一个形如(batch_size, seq_len, word_size)的张量；\n",
    "    函数返回一个形如(batch_size, seq_len, position_size)的位置张量。\n",
    "    position_size必须是2的倍数，前面一半是正常的embedding,后面一半是pos_embedding\n",
    "    '''\n",
    "    batch_size,seq_len = tf.shape(inputs)[0],tf.shape(inputs)[1]\n",
    "    \n",
    "    # position_j: (position_size // 2,)\n",
    "    position_j = 1. / tf.pow(10000., \\\n",
    "                             2 * tf.range(position_size//2, dtype=tf.float32) / position_size)\n",
    "    \n",
    "    # position_j: (1, position_size // 2)\n",
    "    position_j = tf.expand_dims(position_j, 0)\n",
    "    \n",
    "    # position_i: (position_size // 2,)\n",
    "    position_i = tf.range(tf.cast(seq_len, tf.float32), dtype=tf.float32)\n",
    "    # position_i:(position_size // 2,1)\n",
    "    position_i = tf.expand_dims(position_i, 1)\n",
    "    position_ij = tf.matmul(position_i, position_j)\n",
    "    position_ij = tf.concat([tf.cos(position_ij), tf.sin(position_ij)], 1)\n",
    "    position_embedding = tf.expand_dims(position_ij, 0) \\\n",
    "                         + tf.zeros((batch_size, seq_len, position_size))\n",
    "    return position_embedding"
   ]
  },
  {
   "cell_type": "code",
   "execution_count": 31,
   "metadata": {},
   "outputs": [],
   "source": [
    "# 1个batch, 有三个句子， 每个句子长度是2\n",
    "# batch_size=1, seq_len=3, word_size=2\n",
    "inputs = tf.ones(shape=(1,3,2))\n",
    "PE = posEmbedding(inputs,position_size = 4)\n",
    "PE.shape # (1,3,4)\n",
    "position_i = tf.range(tf.cast(seq_len, tf.float32), dtype=tf.float32)"
   ]
  },
  {
   "cell_type": "code",
   "execution_count": 32,
   "metadata": {},
   "outputs": [
    {
     "data": {
      "text/plain": [
       "<tf.Tensor: id=479, shape=(3,), dtype=float32, numpy=array([0., 1., 2.], dtype=float32)>"
      ]
     },
     "execution_count": 32,
     "metadata": {},
     "output_type": "execute_result"
    }
   ],
   "source": [
    "position_i"
   ]
  }
 ],
 "metadata": {
  "kernelspec": {
   "display_name": "Python 3",
   "language": "python",
   "name": "python3"
  },
  "language_info": {
   "codemirror_mode": {
    "name": "ipython",
    "version": 3
   },
   "file_extension": ".py",
   "mimetype": "text/x-python",
   "name": "python",
   "nbconvert_exporter": "python",
   "pygments_lexer": "ipython3",
   "version": "3.6.1"
  }
 },
 "nbformat": 4,
 "nbformat_minor": 2
}
